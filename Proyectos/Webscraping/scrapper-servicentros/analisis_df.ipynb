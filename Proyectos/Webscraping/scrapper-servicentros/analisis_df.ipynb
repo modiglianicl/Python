{
 "cells": [
  {
   "cell_type": "markdown",
   "metadata": {},
   "source": [
    "# Uso de Geopy y API Google Geocoding para obtención de coordenadas"
   ]
  },
  {
   "cell_type": "code",
   "execution_count": 1,
   "metadata": {},
   "outputs": [],
   "source": [
    "import pandas as pd\n",
    "import folium\n",
    "import geopy\n",
    "from geopy.geocoders import Nominatim\n",
    "from geopy.geocoders import GoogleV3"
   ]
  },
  {
   "cell_type": "code",
   "execution_count": 2,
   "metadata": {},
   "outputs": [],
   "source": [
    "# Geocoding\n",
    "geolocator = Nominatim(user_agent=\"Cualquiernombre\")\n",
    "geogoogle = GoogleV3(api_key='TU API KEY ACA')\n",
    "# Rate limit\n",
    "import time\n",
    "start = time.time()\n",
    "\n",
    "from geopy.extra.rate_limiter import RateLimiter\n",
    "geocode = RateLimiter(geogoogle.geocode, min_delay_seconds=2)"
   ]
  },
  {
   "cell_type": "code",
   "execution_count": 26,
   "metadata": {},
   "outputs": [
    {
     "data": {
      "text/plain": [
       "88"
      ]
     },
     "execution_count": 26,
     "metadata": {},
     "output_type": "execute_result"
    }
   ],
   "source": [
    "# Cargando dataframe\n",
    "df_final = pd.read_csv(\"db_filtrada.csv\",encoding='utf8')\n",
    "\n",
    "# Obtenemos todas las direcciones en una lista\n",
    "locaciones_full = df_final['direccion'].tolist()\n",
    "\n",
    "len(locaciones_full)"
   ]
  },
  {
   "cell_type": "code",
   "execution_count": null,
   "metadata": {},
   "outputs": [],
   "source": [
    "# Creamos listas\n",
    "latitudes = []\n",
    "longitudes = []\n",
    "\n",
    "# Iteramos cada locacion con el geolocator\n",
    "\n",
    "for locacion in locaciones_full:\n",
    "    loc_raw = geocode(locacion)\n",
    "    try:\n",
    "        lat = loc_raw.latitude\n",
    "        long = loc_raw.longitude\n",
    "        latitudes.append(lat)\n",
    "        longitudes.append(long)\n",
    "        error_chk = \"no\"\n",
    "    except:\n",
    "        lat = 0\n",
    "        long = 0\n",
    "        latitudes.append(lat)\n",
    "        longitudes.append(long)\n",
    "        error_chk = \"si\"\n",
    "    print(f'Nombre locacion: {loc_raw}, lat : {lat}, long : {long} error? : {error_chk}')"
   ]
  },
  {
   "cell_type": "code",
   "execution_count": 6,
   "metadata": {},
   "outputs": [
    {
     "data": {
      "text/html": [
       "<div>\n",
       "<style scoped>\n",
       "    .dataframe tbody tr th:only-of-type {\n",
       "        vertical-align: middle;\n",
       "    }\n",
       "\n",
       "    .dataframe tbody tr th {\n",
       "        vertical-align: top;\n",
       "    }\n",
       "\n",
       "    .dataframe thead th {\n",
       "        text-align: right;\n",
       "    }\n",
       "</style>\n",
       "<table border=\"1\" class=\"dataframe\">\n",
       "  <thead>\n",
       "    <tr style=\"text-align: right;\">\n",
       "      <th></th>\n",
       "      <th>lat</th>\n",
       "      <th>long</th>\n",
       "    </tr>\n",
       "  </thead>\n",
       "  <tbody>\n",
       "    <tr>\n",
       "      <th>0</th>\n",
       "      <td>-38.728025</td>\n",
       "      <td>-72.578402</td>\n",
       "    </tr>\n",
       "    <tr>\n",
       "      <th>1</th>\n",
       "      <td>-37.672304</td>\n",
       "      <td>-72.589647</td>\n",
       "    </tr>\n",
       "    <tr>\n",
       "      <th>2</th>\n",
       "      <td>-38.932059</td>\n",
       "      <td>-72.036365</td>\n",
       "    </tr>\n",
       "    <tr>\n",
       "      <th>3</th>\n",
       "      <td>-38.930029</td>\n",
       "      <td>-72.038323</td>\n",
       "    </tr>\n",
       "    <tr>\n",
       "      <th>4</th>\n",
       "      <td>-37.955919</td>\n",
       "      <td>-72.438008</td>\n",
       "    </tr>\n",
       "    <tr>\n",
       "      <th>...</th>\n",
       "      <td>...</td>\n",
       "      <td>...</td>\n",
       "    </tr>\n",
       "    <tr>\n",
       "      <th>83</th>\n",
       "      <td>-33.613685</td>\n",
       "      <td>-71.609798</td>\n",
       "    </tr>\n",
       "    <tr>\n",
       "      <th>84</th>\n",
       "      <td>-33.578128</td>\n",
       "      <td>-71.608956</td>\n",
       "    </tr>\n",
       "    <tr>\n",
       "      <th>85</th>\n",
       "      <td>-33.022909</td>\n",
       "      <td>-71.547922</td>\n",
       "    </tr>\n",
       "    <tr>\n",
       "      <th>86</th>\n",
       "      <td>-33.046805</td>\n",
       "      <td>-71.406121</td>\n",
       "    </tr>\n",
       "    <tr>\n",
       "      <th>87</th>\n",
       "      <td>-32.929947</td>\n",
       "      <td>-71.518606</td>\n",
       "    </tr>\n",
       "  </tbody>\n",
       "</table>\n",
       "<p>88 rows × 2 columns</p>\n",
       "</div>"
      ],
      "text/plain": [
       "          lat       long\n",
       "0  -38.728025 -72.578402\n",
       "1  -37.672304 -72.589647\n",
       "2  -38.932059 -72.036365\n",
       "3  -38.930029 -72.038323\n",
       "4  -37.955919 -72.438008\n",
       "..        ...        ...\n",
       "83 -33.613685 -71.609798\n",
       "84 -33.578128 -71.608956\n",
       "85 -33.022909 -71.547922\n",
       "86 -33.046805 -71.406121\n",
       "87 -32.929947 -71.518606\n",
       "\n",
       "[88 rows x 2 columns]"
      ]
     },
     "execution_count": 6,
     "metadata": {},
     "output_type": "execute_result"
    }
   ],
   "source": [
    "# Apendamos latitudes y longitudes\n",
    "\n",
    "lat_long = {'lat' : latitudes ,'long' : longitudes }\n",
    "\n",
    "df_latlong = pd.DataFrame(data=lat_long)\n",
    "\n",
    "df_latlong"
   ]
  },
  {
   "cell_type": "code",
   "execution_count": 10,
   "metadata": {},
   "outputs": [
    {
     "name": "stdout",
     "output_type": "stream",
     "text": [
      "88\n",
      "88\n"
     ]
    }
   ],
   "source": [
    "# Confirmando largo de datos\n",
    "print(len(latitudes))\n",
    "print(len(longitudes))"
   ]
  },
  {
   "cell_type": "code",
   "execution_count": 11,
   "metadata": {},
   "outputs": [
    {
     "data": {
      "text/html": [
       "<div>\n",
       "<style scoped>\n",
       "    .dataframe tbody tr th:only-of-type {\n",
       "        vertical-align: middle;\n",
       "    }\n",
       "\n",
       "    .dataframe tbody tr th {\n",
       "        vertical-align: top;\n",
       "    }\n",
       "\n",
       "    .dataframe thead th {\n",
       "        text-align: right;\n",
       "    }\n",
       "</style>\n",
       "<table border=\"1\" class=\"dataframe\">\n",
       "  <thead>\n",
       "    <tr style=\"text-align: right;\">\n",
       "      <th></th>\n",
       "      <th>lat</th>\n",
       "      <th>long</th>\n",
       "    </tr>\n",
       "  </thead>\n",
       "  <tbody>\n",
       "    <tr>\n",
       "      <th>0</th>\n",
       "      <td>-38.728025</td>\n",
       "      <td>-72.578402</td>\n",
       "    </tr>\n",
       "    <tr>\n",
       "      <th>1</th>\n",
       "      <td>-37.672304</td>\n",
       "      <td>-72.589647</td>\n",
       "    </tr>\n",
       "    <tr>\n",
       "      <th>2</th>\n",
       "      <td>-38.932059</td>\n",
       "      <td>-72.036365</td>\n",
       "    </tr>\n",
       "    <tr>\n",
       "      <th>3</th>\n",
       "      <td>-38.930029</td>\n",
       "      <td>-72.038323</td>\n",
       "    </tr>\n",
       "    <tr>\n",
       "      <th>4</th>\n",
       "      <td>-37.955919</td>\n",
       "      <td>-72.438008</td>\n",
       "    </tr>\n",
       "    <tr>\n",
       "      <th>...</th>\n",
       "      <td>...</td>\n",
       "      <td>...</td>\n",
       "    </tr>\n",
       "    <tr>\n",
       "      <th>83</th>\n",
       "      <td>-33.613685</td>\n",
       "      <td>-71.609798</td>\n",
       "    </tr>\n",
       "    <tr>\n",
       "      <th>84</th>\n",
       "      <td>-33.578128</td>\n",
       "      <td>-71.608956</td>\n",
       "    </tr>\n",
       "    <tr>\n",
       "      <th>85</th>\n",
       "      <td>-33.022909</td>\n",
       "      <td>-71.547922</td>\n",
       "    </tr>\n",
       "    <tr>\n",
       "      <th>86</th>\n",
       "      <td>-33.046805</td>\n",
       "      <td>-71.406121</td>\n",
       "    </tr>\n",
       "    <tr>\n",
       "      <th>87</th>\n",
       "      <td>-32.929947</td>\n",
       "      <td>-71.518606</td>\n",
       "    </tr>\n",
       "  </tbody>\n",
       "</table>\n",
       "<p>88 rows × 2 columns</p>\n",
       "</div>"
      ],
      "text/plain": [
       "          lat       long\n",
       "0  -38.728025 -72.578402\n",
       "1  -37.672304 -72.589647\n",
       "2  -38.932059 -72.036365\n",
       "3  -38.930029 -72.038323\n",
       "4  -37.955919 -72.438008\n",
       "..        ...        ...\n",
       "83 -33.613685 -71.609798\n",
       "84 -33.578128 -71.608956\n",
       "85 -33.022909 -71.547922\n",
       "86 -33.046805 -71.406121\n",
       "87 -32.929947 -71.518606\n",
       "\n",
       "[88 rows x 2 columns]"
      ]
     },
     "execution_count": 11,
     "metadata": {},
     "output_type": "execute_result"
    }
   ],
   "source": [
    "# Creando DF para hacer join a la db final por index\n",
    "\n",
    "df_coords = pd.DataFrame(df_latlong,columns=['lat','long'])\n",
    "\n",
    "df_coords"
   ]
  },
  {
   "cell_type": "code",
   "execution_count": 27,
   "metadata": {},
   "outputs": [],
   "source": [
    "# Join por index\n",
    "df_final = df_final.join(df_coords)\n",
    "\n",
    "# Escribimos el archivo\n",
    "df_final.to_csv(\"df_final_coords.csv\",index=False)"
   ]
  }
 ],
 "metadata": {
  "kernelspec": {
   "display_name": "Python 3",
   "language": "python",
   "name": "python3"
  },
  "language_info": {
   "codemirror_mode": {
    "name": "ipython",
    "version": 3
   },
   "file_extension": ".py",
   "mimetype": "text/x-python",
   "name": "python",
   "nbconvert_exporter": "python",
   "pygments_lexer": "ipython3",
   "version": "3.9.13"
  },
  "orig_nbformat": 4
 },
 "nbformat": 4,
 "nbformat_minor": 2
}
