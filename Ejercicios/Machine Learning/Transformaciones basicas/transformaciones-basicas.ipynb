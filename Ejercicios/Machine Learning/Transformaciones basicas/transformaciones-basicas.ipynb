{
 "cells": [
  {
   "cell_type": "code",
   "execution_count": 10,
   "metadata": {},
   "outputs": [],
   "source": [
    "import pandas as pd\n",
    "import numpy as np\n",
    "from sklearn.preprocessing import StandardScaler\n",
    "\n",
    "#import data\n",
    "reviews = pd.read_csv(\"reviews.csv\")\n",
    "  "
   ]
  },
  {
   "cell_type": "code",
   "execution_count": 11,
   "metadata": {},
   "outputs": [
    {
     "name": "stdout",
     "output_type": "stream",
     "text": [
      "['Unnamed: 0', 'Clothing ID', 'Age', 'Title', 'Review Text', 'Rating', 'Recommended IND', 'Positive Feedback Count', 'Division Name', 'Department Name', 'Class Name']\n",
      "<class 'pandas.core.frame.DataFrame'>\n",
      "RangeIndex: 23486 entries, 0 to 23485\n",
      "Data columns (total 11 columns):\n",
      " #   Column                   Non-Null Count  Dtype \n",
      "---  ------                   --------------  ----- \n",
      " 0   Unnamed: 0               23486 non-null  int64 \n",
      " 1   Clothing ID              23486 non-null  int64 \n",
      " 2   Age                      23486 non-null  int64 \n",
      " 3   Title                    19676 non-null  object\n",
      " 4   Review Text              22641 non-null  object\n",
      " 5   Rating                   23486 non-null  int64 \n",
      " 6   Recommended IND          23486 non-null  int64 \n",
      " 7   Positive Feedback Count  23486 non-null  int64 \n",
      " 8   Division Name            23472 non-null  object\n",
      " 9   Department Name          23472 non-null  object\n",
      " 10  Class Name               23472 non-null  object\n",
      "dtypes: int64(6), object(5)\n",
      "memory usage: 2.0+ MB\n",
      "None\n"
     ]
    }
   ],
   "source": [
    "#print column names\n",
    "print(reviews.columns.tolist())\n",
    "\n",
    "#print .info\n",
    "print(reviews.info())"
   ]
  },
  {
   "cell_type": "code",
   "execution_count": 15,
   "metadata": {},
   "outputs": [],
   "source": [
    "# Para temas de ejercicio pasaremos de letra a número y despues viceversa\n",
    "binary_dict_1 = {1:True , 0:False}\n",
    "reviews[\"Recommended IND\"] = reviews[\"Recommended IND\"].map(binary_dict_1)"
   ]
  },
  {
   "cell_type": "code",
   "execution_count": 16,
   "metadata": {},
   "outputs": [
    {
     "name": "stdout",
     "output_type": "stream",
     "text": [
      "True     19314\n",
      "False     4172\n",
      "Name: Recommended IND, dtype: int64\n"
     ]
    }
   ],
   "source": [
    "# look at the counts of recommended\n",
    "print(reviews[\"Recommended IND\"].value_counts())\n",
    " \n",
    "# create binary dictionary\n",
    "binary_dict_2 = {True:1 , False:0}"
   ]
  },
  {
   "cell_type": "code",
   "execution_count": 17,
   "metadata": {},
   "outputs": [
    {
     "name": "stdout",
     "output_type": "stream",
     "text": [
      "0        1\n",
      "1        1\n",
      "2        0\n",
      "3        1\n",
      "4        1\n",
      "        ..\n",
      "23481    1\n",
      "23482    1\n",
      "23483    0\n",
      "23484    1\n",
      "23485    1\n",
      "Name: rec_binary, Length: 23486, dtype: int64\n"
     ]
    }
   ],
   "source": [
    "# transform column\n",
    "reviews[\"rec_binary\"] = reviews[\"Recommended IND\"].map(binary_dict)\n",
    " \n",
    "# print your transformed column\n",
    "print(reviews[\"rec_binary\"])\n"
   ]
  },
  {
   "cell_type": "code",
   "execution_count": 19,
   "metadata": {},
   "outputs": [],
   "source": [
    "# Al igual que arriba, esto ya venía transformado, destransformemos para el ejercicio\n",
    "rating_dict_1 = {5:\"Loved it\",4:\"Liked it\",3:\"Was okay\",2:\"Not great\",1:\"Hated it\"}\n",
    "reviews[\"Rating\"] = reviews[\"Rating\"].map(rating_dict_1)"
   ]
  },
  {
   "cell_type": "code",
   "execution_count": 20,
   "metadata": {},
   "outputs": [
    {
     "name": "stdout",
     "output_type": "stream",
     "text": [
      "Loved it     13131\n",
      "Liked it      5077\n",
      "Was okay      2871\n",
      "Not great     1565\n",
      "Hated it       842\n",
      "Name: Rating, dtype: int64\n"
     ]
    }
   ],
   "source": [
    "#look at the counts of rating\n",
    "print(reviews[\"Rating\"].value_counts())"
   ]
  },
  {
   "cell_type": "code",
   "execution_count": 21,
   "metadata": {},
   "outputs": [
    {
     "name": "stdout",
     "output_type": "stream",
     "text": [
      "0    4\n",
      "1    5\n",
      "2    3\n",
      "3    5\n",
      "4    5\n",
      "Name: Rating, dtype: int64\n",
      "5\n"
     ]
    }
   ],
   "source": [
    "#create dictionary\n",
    "rating_dict = {\"Loved it\":5,\"Liked it\":4,\"Was okay\":3,\"Not great\":2,\"Hated it\":1}\n",
    " \n",
    "#transform rating column\n",
    "reviews[\"Rating\"] = reviews[\"Rating\"].map(rating_dict)\n",
    "\n",
    " \n",
    "#print your transformed column values\n",
    "print(reviews[\"Rating\"].head(5))\n",
    "\n",
    "#get the number of categories in a feature\n",
    "print(len(reviews[\"Rating\"].unique()))"
   ]
  },
  {
   "cell_type": "code",
   "execution_count": 22,
   "metadata": {},
   "outputs": [
    {
     "name": "stdout",
     "output_type": "stream",
     "text": [
      "['Unnamed: 0', 'Clothing ID', 'Age', 'Title', 'Review Text', 'Rating', 'Recommended IND', 'Positive Feedback Count', 'Division Name', 'Department Name', 'Class Name', 'rec_binary', 1, 2, 3, 4, 5]\n"
     ]
    }
   ],
   "source": [
    "#perform get_dummies\n",
    "one_hot = pd.get_dummies(reviews[\"Rating\"])\n",
    "\n",
    " #join the new columns back onto the original\n",
    "reviews = reviews.join(one_hot)\n",
    "\n",
    "#print column names\n",
    "\n",
    "print(reviews.columns.tolist())"
   ]
  },
  {
   "cell_type": "code",
   "execution_count": null,
   "metadata": {},
   "outputs": [],
   "source": [
    "# Lamentablemente el dataset no tenia datos de fecha, pero en caso, algo así habría sido!\n",
    "\n",
    "#transform review_date to date-time data\n",
    "\n",
    "reviews[\"review_date\"] = pd.to_datetime(reviews[\"review_date\"])\n",
    "\n",
    "#print review_date data type \n",
    "\n",
    "print(reviews[\"review_date\"].dtype)"
   ]
  },
  {
   "cell_type": "code",
   "execution_count": 24,
   "metadata": {},
   "outputs": [
    {
     "name": "stdout",
     "output_type": "stream",
     "text": [
      "       Unnamed: 0  Clothing ID  Age  Rating  Positive Feedback Count  \\\n",
      "0               0          767   33       4                        0   \n",
      "1               1         1080   34       5                        4   \n",
      "2               2         1077   60       3                        0   \n",
      "3               3         1049   50       5                        0   \n",
      "4               4          847   47       5                        6   \n",
      "...           ...          ...  ...     ...                      ...   \n",
      "23481       23481         1104   34       5                        0   \n",
      "23482       23482          862   48       3                        0   \n",
      "23483       23483         1104   31       3                        1   \n",
      "23484       23484         1084   28       3                        2   \n",
      "23485       23485         1104   52       5                       22   \n",
      "\n",
      "       rec_binary  \n",
      "0               1  \n",
      "1               1  \n",
      "2               0  \n",
      "3               1  \n",
      "4               1  \n",
      "...           ...  \n",
      "23481           1  \n",
      "23482           1  \n",
      "23483           0  \n",
      "23484           1  \n",
      "23485           1  \n",
      "\n",
      "[23486 rows x 6 columns]\n"
     ]
    }
   ],
   "source": [
    "# Get numerical columns\n",
    "\n",
    "num_col = reviews.select_dtypes(include=[\"int64\"]) # También podemos usar \"numeric\", en caso de objetos es \"object\"\n",
    "print(num_col)"
   ]
  },
  {
   "cell_type": "code",
   "execution_count": 25,
   "metadata": {},
   "outputs": [
    {
     "name": "stdout",
     "output_type": "stream",
     "text": [
      "[[-1.73197706 -0.74334818 -0.83054886 -0.17660399 -0.44473881  0.4647678 ]\n",
      " [-1.73182956  0.79628898 -0.74911087  0.72429116  0.25675958  0.4647678 ]\n",
      " [-1.73168207  0.78153208  1.36827674 -1.07749914 -0.44473881 -2.15161203]\n",
      " ...\n",
      " [ 1.73168207  0.91434423 -0.99342483 -1.07749914 -0.26936421 -2.15161203]\n",
      " [ 1.73182956  0.81596486 -1.23773878 -1.07749914 -0.09398961  0.4647678 ]\n",
      " [ 1.73197706  0.91434423  0.71677286  0.72429116  3.41350233  0.4647678 ]]\n"
     ]
    }
   ],
   "source": [
    "#instantiate standard scaler\n",
    "\n",
    "scaler = StandardScaler()\n",
    " \n",
    "#fit transform data\n",
    "\n",
    "num_col_scaled = scaler.fit_transform(num_col)\n",
    "print(num_col_scaled)"
   ]
  }
 ],
 "metadata": {
  "kernelspec": {
   "display_name": "Python 3.8.2 64-bit",
   "language": "python",
   "name": "python3"
  },
  "language_info": {
   "codemirror_mode": {
    "name": "ipython",
    "version": 3
   },
   "file_extension": ".py",
   "mimetype": "text/x-python",
   "name": "python",
   "nbconvert_exporter": "python",
   "pygments_lexer": "ipython3",
   "version": "3.8.2"
  },
  "orig_nbformat": 4,
  "vscode": {
   "interpreter": {
    "hash": "570feb405e2e27c949193ac68f46852414290d515b0ba6e5d90d076ed2284471"
   }
  }
 },
 "nbformat": 4,
 "nbformat_minor": 2
}
